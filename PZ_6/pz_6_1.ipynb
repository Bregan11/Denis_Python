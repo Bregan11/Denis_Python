{
 "cells": [
  {
   "cell_type": "code",
   "execution_count": 3,
   "metadata": {},
   "outputs": [
    {
     "name": "stdout",
     "output_type": "stream",
     "text": [
      "Сформированный список: [5, 4, 9, 18, 36, 72, 144, 288, 576, 1152]\n"
     ]
    }
   ],
   "source": [
    "# Даны целые числа N (>2), A и B. \n",
    "# Сформировать и вывести целочисленный список размера 10, \n",
    "# первый элемент которого равен A, \n",
    "# второй равен B, а каждый последующий элемент равен сумме всех предыдущих.\n",
    "\n",
    "N = int(input(\"Введите целое число N (>2): \"))\n",
    "A = int(input(\"Введите целое число A: \"))\n",
    "B = int(input(\"Введите целое число B: \"))\n",
    "\n",
    "result_list = [A, B]\n",
    "for i in range(2, 10):\n",
    "    result_list.append(sum(result_list))\n",
    "\n",
    "print(\"Сформированный список:\", result_list)"
   ]
  },
  {
   "cell_type": "code",
   "execution_count": 2,
   "metadata": {},
   "outputs": [
    {
     "name": "stdout",
     "output_type": "stream",
     "text": [
      "Максимальный локальный минимум: None\n"
     ]
    }
   ],
   "source": [
    "# Дан список размера N. \n",
    "# Найти максимальный из его локальных минимумов (локальный минимум — это элемент, который меньше любого из своих соседей).\n",
    "\n",
    "N = int(input(\"Введите размер списка N: \"))\n",
    "numbers = [int(input(f\"Введите элемент {i+1}: \")) for i in range(N)]\n",
    "\n",
    "local_minima = [numbers[i] for i in range(1, N-1) if numbers[i] < numbers[i-1] and numbers[i] < numbers[i+1]]\n",
    "max_local_min = max(local_minima) if local_minima else None\n",
    "\n",
    "print(\"Максимальный локальный минимум:\", max_local_min)"
   ]
  },
  {
   "cell_type": "code",
   "execution_count": 1,
   "metadata": {},
   "outputs": [
    {
     "name": "stdout",
     "output_type": "stream",
     "text": [
      "Сдвинутый список: [0, 0, 0, 2, 3]\n"
     ]
    }
   ],
   "source": [
    "# Дан список размера N и целое число K (1 < K < N). \n",
    "# Осуществить сдвиг элементов список вправо на K позиций \n",
    "# (при этом A1 перейдет в AK+1, A2 — в AK+2, ..AN-K — в AN, а исходное значение K последних элементов будет потеряно). \n",
    "# Первые K элементов полученного списка положить равными 0.\n",
    "\n",
    "N = int(input(\"Введите размер списка N: \"))\n",
    "K = int(input(\"Введите целое число K (1 < K < N): \"))\n",
    "elements = [int(input(f\"Введите элемент {i+1}: \")) for i in range(N)]\n",
    "\n",
    "shifted_list = [0] * K + elements[:-K]\n",
    "print(\"Сдвинутый список:\", shifted_list)"
   ]
  }
 ],
 "metadata": {
  "kernelspec": {
   "display_name": "Python 3",
   "language": "python",
   "name": "python3"
  },
  "language_info": {
   "codemirror_mode": {
    "name": "ipython",
    "version": 3
   },
   "file_extension": ".py",
   "mimetype": "text/x-python",
   "name": "python",
   "nbconvert_exporter": "python",
   "pygments_lexer": "ipython3",
   "version": "3.12.1"
  }
 },
 "nbformat": 4,
 "nbformat_minor": 2
}
