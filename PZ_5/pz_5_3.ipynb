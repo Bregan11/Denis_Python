{
 "cells": [
  {
   "cell_type": "code",
   "execution_count": 2,
   "metadata": {},
   "outputs": [
    {
     "name": "stdout",
     "output_type": "stream",
     "text": [
      "У числа 287 больше сумма цифр: 17\n"
     ]
    }
   ],
   "source": [
    "# Даны три целых числа. \n",
    "# Определить у какого числа больше сумма цифр. \n",
    "# Вывод результата предусмотреть в основной программе. \n",
    "# Расчет суммы цифр оформить в функции.\n",
    "\n",
    "def sum_of_digits(number):\n",
    "    return sum(int(digit) for digit in str(abs(number)))\n",
    "\n",
    "# Основная программа\n",
    "num1 = int(input(\"Введите первое целое число: \"))\n",
    "num2 = int(input(\"Введите второе целое число: \"))\n",
    "num3 = int(input(\"Введите третье целое число: \"))\n",
    "\n",
    "sum1 = sum_of_digits(num1)\n",
    "sum2 = sum_of_digits(num2)\n",
    "sum3 = sum_of_digits(num3)\n",
    "\n",
    "if sum1 >= sum2 and sum1 >= sum3:\n",
    "    print(f\"У числа {num1} больше сумма цифр: {sum1}\")\n",
    "elif sum2 >= sum1 and sum2 >= sum3:\n",
    "    print(f\"У числа {num2} больше сумма цифр: {sum2}\")\n",
    "else:\n",
    "    print(f\"У числа {num3} больше сумма цифр: {sum3}\")\n"
   ]
  },
  {
   "cell_type": "code",
   "execution_count": null,
   "metadata": {},
   "outputs": [],
   "source": [
    "# Рассчитать и вывести периметр и площадь прямоугольника. \n",
    "# Расчеты оформить в функции.\n",
    "\n",
    "def calculate_perimeter(length, width):\n",
    "    return 2 * (length + width)\n",
    "\n",
    "def calculate_area(length, width):\n",
    "    return length * width\n",
    "\n",
    "# Основная программа\n",
    "length = float(input(\"Введите длину прямоугольника: \"))\n",
    "width = float(input(\"Введите ширину прямоугольника: \"))\n",
    "\n",
    "perimeter = calculate_perimeter(length, width)\n",
    "area = calculate_area(length, width)\n",
    "\n",
    "print(f\"Периметр прямоугольника: {perimeter}\")\n",
    "print(f\"Площадь прямоугольника: {area}\")\n"
   ]
  },
  {
   "cell_type": "code",
   "execution_count": 3,
   "metadata": {},
   "outputs": [
    {
     "name": "stdout",
     "output_type": "stream",
     "text": [
      "Количество цифр в числе 1000000: 7\n"
     ]
    }
   ],
   "source": [
    "# Написать программу, подсчитывающую количество цифр числа, используя для этого функцию.\n",
    "\n",
    "def count_digits(number):\n",
    "    return len(str(abs(number)))\n",
    "\n",
    "# Основная программа\n",
    "number = int(input(\"Введите целое число: \"))\n",
    "digit_count = count_digits(number)\n",
    "\n",
    "print(f\"Количество цифр в числе {number}: {digit_count}\")\n"
   ]
  }
 ],
 "metadata": {
  "kernelspec": {
   "display_name": "Python 3",
   "language": "python",
   "name": "python3"
  },
  "language_info": {
   "codemirror_mode": {
    "name": "ipython",
    "version": 3
   },
   "file_extension": ".py",
   "mimetype": "text/x-python",
   "name": "python",
   "nbconvert_exporter": "python",
   "pygments_lexer": "ipython3",
   "version": "3.12.1"
  }
 },
 "nbformat": 4,
 "nbformat_minor": 2
}
