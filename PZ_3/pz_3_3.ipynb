{
 "cells": [
  {
   "cell_type": "code",
   "execution_count": 1,
   "metadata": {},
   "outputs": [
    {
     "name": "stdout",
     "output_type": "stream",
     "text": [
      "1.5\n"
     ]
    }
   ],
   "source": [
    "# Ввести 2 числа. \n",
    "# Если их произведение отрицательно, умножить его на 8, в противном случае увеличить его в 1.5 раза.\n",
    "\n",
    "a = int(input(\"Введите первое число: \"))\n",
    "b = int(input(\"Введите второе число: \"))\n",
    "c = a * b\n",
    "if c < 0:\n",
    "    c *= 8\n",
    "else:\n",
    "    c *= 1.5\n",
    "print(c)"
   ]
  },
  {
   "cell_type": "code",
   "execution_count": 2,
   "metadata": {},
   "outputs": [
    {
     "name": "stdout",
     "output_type": "stream",
     "text": [
      "25\n"
     ]
    }
   ],
   "source": [
    "# Вести число. Если оно четное, разделить его на 4, если нечетное - умножить на 5.\n",
    "\n",
    "a = int(input(\"Введите число: \"))\n",
    "if a % 2 == 0:\n",
    "    a /= 4\n",
    "else:\n",
    "    a *= 5\n",
    "print(a)"
   ]
  },
  {
   "cell_type": "code",
   "execution_count": null,
   "metadata": {},
   "outputs": [],
   "source": [
    "# Ввести двухзначное число. \n",
    "# Если сумма цифр числа четная, то увеличить число на 2, в противном случае уменьшить на 2.\n",
    "\n",
    "a = int(input(\"Введите двухзначное число: \"))\n",
    "b = a // 10\n",
    "c = a % 10\n",
    "if (b + c) % 2 == 0:\n",
    "    a += 2\n",
    "else:\n",
    "    a -= 2\n",
    "print(a)"
   ]
  },
  {
   "cell_type": "code",
   "execution_count": 6,
   "metadata": {},
   "outputs": [
    {
     "name": "stdout",
     "output_type": "stream",
     "text": [
      "-10\n"
     ]
    }
   ],
   "source": [
    "# Дано целое число. \n",
    "# Если оно является положительным, то прибавить к нему 20, в противном случае вычесть из него 5.\n",
    "\n",
    "a = int(input(\"Введите число: \"))\n",
    "if a > 0:\n",
    "    a += 20\n",
    "else:\n",
    "    a -= 5\n",
    "print(a)"
   ]
  },
  {
   "cell_type": "code",
   "execution_count": null,
   "metadata": {},
   "outputs": [],
   "source": [
    "# Дано два числа. Если их сумма кратна 5, то прибавить 1, иначе вычесть 2.\n",
    "\n",
    "a = int(input(\"Введите первое число: \"))\n",
    "b = int(input(\"Введите второе число: \"))\n",
    "if (a + b) % 5 == 0:\n",
    "    a += 1\n",
    "else:\n",
    "    a -= 2\n",
    "print(a)"
   ]
  }
 ],
 "metadata": {
  "kernelspec": {
   "display_name": "Python 3",
   "language": "python",
   "name": "python3"
  },
  "language_info": {
   "codemirror_mode": {
    "name": "ipython",
    "version": 3
   },
   "file_extension": ".py",
   "mimetype": "text/x-python",
   "name": "python",
   "nbconvert_exporter": "python",
   "pygments_lexer": "ipython3",
   "version": "3.12.1"
  }
 },
 "nbformat": 4,
 "nbformat_minor": 2
}
